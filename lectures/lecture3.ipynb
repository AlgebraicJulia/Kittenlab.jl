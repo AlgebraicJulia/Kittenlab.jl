{
  "cells": [
    {
      "cell_type": "markdown",
      "metadata": {},
      "source": [
        "# Lecture 3: Category Theory {.unnumbered}\n",
        "\n",
        "<details>\n",
        "<summary>\n",
        "Julia from last lecture\n",
        "</summary>"
      ]
    },
    {
      "cell_type": "code",
      "metadata": {},
      "source": [
        "abstract type 𝔽 end\n",
        "\n",
        "struct Vec𝔽 <: 𝔽\n",
        "  elems::Vector{Any}\n",
        "end\n",
        "\n",
        "Base.:(∈)(a, A::Vec𝔽) = a ∈ A.elems\n",
        "\n",
        "Base.iterate(A::Vec𝔽) = iterate(A.elems)\n",
        "Base.iterate(A::Vec𝔽, k) = iterate(A.elems, k)\n",
        "Base.length(A::Vec𝔽) = length(A.elems)\n",
        "\n",
        "struct Int𝔽 <: 𝔽\n",
        "  n::Int\n",
        "end\n",
        "\n",
        "Base.:(∈)(a, A::Int𝔽) = 1 <= a <= A.n\n",
        "\n",
        "Base.iterate(A::Int𝔽) = iterate(1:A.n)\n",
        "Base.iterate(A::Int𝔽, k) = iterate(1:A.n, k)\n",
        "\n",
        "struct 𝔽Mor\n",
        "  dom::𝔽\n",
        "  codom::𝔽\n",
        "  vals::Dict{Any,Any}\n",
        "end\n",
        "\n",
        "(f::𝔽Mor)(x) = f.vals[x]\n",
        "\n",
        "struct Int𝔽Mor\n",
        "  dom::Int𝔽\n",
        "  codom::Int𝔽\n",
        "  vals::Vector{Int}\n",
        "end\n",
        "\n",
        "(f::Int𝔽Mor)(i) = f.vals[i]"
      ],
      "execution_count": null,
      "outputs": []
    },
    {
      "cell_type": "markdown",
      "metadata": {},
      "source": [
        "</details>\n",
        "\n",
        "# Sets\n",
        "\n",
        "Today we will be moving on from finite sets to talk about sets which are possibly infinite. Infinite sets are a controversial topic; they don't exist as tangibly as finite sets, and generally are much trickier to compute with. For a mathematician, this is not a problem; they write down formulas for infinite sets in precisely the same way they wrote down formulas for finite sets.\n",
        "\n",
        "The crucial difference between finite sets and infinite sets is that any \"for all\" statement on an infinite set is not checkable by listing out every element of the set and checking that a property holds of each of them. Relatedly, any \"exists\" statement is likewise not checkable. This seems kind of obvious, but it means that naive extensions of algorithms from the case of finite sets to the case of infinite sets often fails.\n",
        "\n",
        "Thus, on a computer infinite sets have a very different feel than finite sets.\n",
        "\n",
        "In traditional foundations, everything is built out of sets. But, as we said in the previous lecture, this is unnecessarily strict. We are instead taking Julia to be our foundation, so that we will have primitive things that are not themselves sets. This is a much saner foundation, because while it might be technically possible to build, say, a real number out of sets, nobody really wants to do that.\n",
        "\n",
        ":::{.rmenv title=Definition}\n",
        "A **set** $X$ consists of a function from `Any` to `Bool`, which may or either be written in Julia or defined mathematically. If $X(x) = \\mathbf{true}$, we write $x \\in X$, and if $X(x) = \\mathbf{false}$ we write $x \\notin X$.\n",
        ":::\n",
        "\n",
        "Note that when we write down Julia definitions involving sets, we are implicitly assuming that the functions are written in Julia. However, there are some sets that we will use whose functions *cannot* be written down in Julia, so take the Julia definitions with a grain of salt. If the function defining a set can be written in Julia, we say that set is **computable**, and otherwise the set is **uncomputable**.\n",
        "\n",
        "Obviously, we can only model the computable sets in Julia, but the uncomputable sets are still useful for talking *about* Julia."
      ]
    },
    {
      "cell_type": "code",
      "metadata": {},
      "source": [
        "abstract type ComputableSet end\n",
        "\n",
        "# We expect any subtype of ComputableSet to have in defined on it.\n",
        "Base.in(x, s::ComputableSet) = error(\"no specific definition found\")"
      ],
      "execution_count": null,
      "outputs": []
    },
    {
      "cell_type": "markdown",
      "metadata": {},
      "source": [
        ":::{.rmenv title=Example}\n",
        "For any finite set $A$, let $\\chi_{A}$ be defined by $\\chi_{A}(x) = \\mathbf{true}$ if $x$ is listed in $A$ and $\\mathbf{false}$ otherwise. Then $\\chi_{A}$ is a set.\n",
        ":::\n",
        "\n",
        ":::{.rmenv title=Example}\n",
        "Any Julia type `T` defines a set, via the function which checks whether a Julia value has that type.\n",
        ":::"
      ]
    },
    {
      "cell_type": "code",
      "metadata": {},
      "source": [
        "struct FiniteSet <: ComputableSet\n",
        "  A::𝔽\n",
        "end\n",
        "\n",
        "Base.in(x, χ::FiniteSet) = x ∈ χ.A\n",
        "\n",
        "struct TypeSet <: ComputableSet\n",
        "  T::Type\n",
        "end\n",
        "\n",
        "Base.in(x, χ::TypeSet) = x isa χ.T"
      ],
      "execution_count": null,
      "outputs": []
    },
    {
      "cell_type": "markdown",
      "metadata": {},
      "source": [
        ":::{.rmenv title=Definition}\n",
        "Given two sets $A$ and $B$, the set $A \\to B$ consists of all Julia callables $f$ such that $f(a) \\in B$ for all $a \\in A$. Note that\n",
        ":::\n",
        "\n",
        "Note that even if `A` and `B` are computable sets, there is no way to check in Julia that a given `f` is an element of $A \\to B$ because this would involve iterating through possibly infinitely many elements of $A$. Again, languages where this is not the case don't have good ODE solvers.\n",
        "\n",
        ":::{.rmenv title=Definition}\n",
        "Given two sets $X$ and $Y$, their **intersection** $X \\cap Y$ is defined by\n",
        "\n",
        "$$ (X \\cap Y)(x) = X(x) \\wedge Y(x) $$\n",
        "\n",
        "Their **union** $X \\cup Y$ is defined by\n",
        "\n",
        "$$ (X \\cup Y)(x) = X(x) \\vee Y(x) $$\n",
        ":::"
      ]
    },
    {
      "cell_type": "code",
      "metadata": {},
      "source": [
        "struct IntersectionSet\n",
        "  X::ComputableSet\n",
        "  Y::ComputableSet\n",
        "end\n",
        "\n",
        "Base.in(x, χ::IntersectionSet) = x ∈ χ.X && x ∈ χ.Y\n",
        "\n",
        "struct UnionSet\n",
        "  X::ComputableSet\n",
        "  Y::ComputableSet\n",
        "end\n",
        "\n",
        "Base.in(x, χ::UnionSet) = x ∈ χ.X || x ∈ χ.Y"
      ],
      "execution_count": null,
      "outputs": []
    },
    {
      "cell_type": "markdown",
      "metadata": {},
      "source": [
        ":::{.rmenv title=Definition}\n",
        "Given two sets $X$ and $Y$, their **product** $X \\times Y$ is the set of tuples $(x,y)$ where $x \\in X$ and $y \\in Y$. That is, $z \\in X \\times Y$ if and only if `z isa Tuple`, `length(z) = 2`, $z[1] \\in X$ and $z[2] \\in Y$.\n",
        ":::"
      ]
    },
    {
      "cell_type": "code",
      "metadata": {},
      "source": [
        "product(X,Y) = z -> (z isa Tuple) &&\n",
        "  length(z) == 2 && X(z[1]) && Y(z[2])"
      ],
      "execution_count": null,
      "outputs": []
    },
    {
      "cell_type": "markdown",
      "metadata": {},
      "source": [
        ":::{.rmenv title=Definition}\n",
        "We leave it to the reader to give a mathematical definition for **sum** given the following definition in Julia\n",
        ":::"
      ]
    },
    {
      "cell_type": "code",
      "metadata": {},
      "source": [
        "struct Left\n",
        "  val::Any\n",
        "end\n",
        "\n",
        "struct Right\n",
        "  val::Any\n",
        "end\n",
        "\n",
        "sum(X,Y) = x ->\n",
        "  if x isa Left\n",
        "    X(x.val)\n",
        "  elseif x isa Right\n",
        "    Y(x.val)\n",
        "  else\n",
        "    false\n",
        "  end"
      ],
      "execution_count": null,
      "outputs": []
    },
    {
      "cell_type": "markdown",
      "metadata": {},
      "source": [
        "We will now move on to categories. But I would like to make one brief point first, which is that there is no set of all sets. This is because not all sets correspond to Julia values, as we consider uncomputable sets to be sets. But there is a set of all computable sets.\n",
        "\n",
        "# Categories\n",
        "\n",
        "The moment we've all be waiting for.\n",
        "\n",
        ":::{.rmenv title=Definition}\n",
        "A **small category** $C$ consists of\n",
        "\n",
        "- a set $C_0$ of **objects**\n",
        "- for every $x,y \\in C_0$, a set $\\mathrm{Hom}_C(x,y)$ of **morphisms** from $x$ to $y$\n",
        "- for every $x,y,z \\in C_0$, a **composition function** $\\circ \\colon \\mathrm{Hom}_C(y,z) \\times \\mathrm{Hom}_(x,y) \\to \\mathrm{Hom}(x,z)$\n",
        "- for every $x \\in C_0$, an **identity morphism** $1_x \\in \\mathrm{Hom}_C(x,x)$\n",
        "\n",
        "such that\n",
        "\n",
        "- for all $x,y,z,w \\in C_0$, $f \\in \\mathrm{Hom}_C(x,y)$, $g \\in \\mathrm{Hom}_C(y,z)$, $h \\in \\mathrm{Hom}_C(z,w)$,\n",
        "$$ h \\circ (g \\circ f) = (h \\circ g) \\circ f $$\n",
        "- for all $x,y \\in C_0$, $f \\in \\mathrm{Hom}_C(x,y)$,\n",
        "$$ 1_y \\circ f = f = f \\circ 1_x $$\n",
        "\n",
        "These two laws are called the **associativity law** and **unitality law** respectively.\n",
        ":::\n",
        "\n",
        "(Julia to be livecoded)\n",
        "\n",
        ":::{.rmenv title=Example}\n",
        "There is a category $\\mathsf{Fin}$ where the objects are finite sets and the morphisms are morphisms of finite sets, as defined in the previous lecture.\n",
        ":::\n",
        "\n",
        "(Julia to be livecoded)\n",
        "\n",
        ":::{.rmenv title=Example}\n",
        "There is a category where the objects are natural numbers and a morphism from $n$ to $m$ is a $n \\times m$ matrix. Composition of a $n \\times m$ matrix and an $m \\times r$ matrix is done by matrix multiplication.\n",
        ":::\n",
        "\n",
        "(Julia to be livecoded)\n",
        "\n",
        ":::{.rmenv title=Example}\n",
        "A graph consists of a finite set of vertices, a finite set of edges, and a source and target map from vertices to edges. Given any graph, there is a \"free category\" on that graph, where the objects are vertices and the morphisms are *paths*.\n",
        ":::\n",
        "\n",
        "(Julia to be livecoded)"
      ]
    }
  ],
  "metadata": {
    "kernelspec": {
      "name": "julia-1.8",
      "language": "julia",
      "display_name": "Julia 1.8.3"
    }
  },
  "nbformat": 4,
  "nbformat_minor": 4
}