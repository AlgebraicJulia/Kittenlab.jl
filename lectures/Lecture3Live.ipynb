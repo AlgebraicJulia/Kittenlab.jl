{
 "cells": [
  {
   "cell_type": "code",
   "execution_count": 1,
   "id": "77e67b1d-5e5e-44d0-83df-0815fcadc13b",
   "metadata": {},
   "outputs": [],
   "source": [
    "abstract type ComputableSet end"
   ]
  },
  {
   "cell_type": "code",
   "execution_count": 2,
   "id": "20807d46-985d-486d-ab23-d02e13eba03a",
   "metadata": {},
   "outputs": [],
   "source": [
    "Base.in(x, X::ComputableSet) = error(\"should define Base.in for any subtype of ComputableSet\")"
   ]
  },
  {
   "cell_type": "code",
   "execution_count": 33,
   "id": "ace55c4d-8f67-4724-81c5-8a122133ca43",
   "metadata": {},
   "outputs": [
    {
     "data": {
      "text/plain": [
       "isvalid (generic function with 1 method)"
      ]
     },
     "execution_count": 33,
     "metadata": {},
     "output_type": "execute_result"
    }
   ],
   "source": [
    "abstract type 𝔽 end\n",
    "\n",
    "struct Vec𝔽 <: 𝔽\n",
    "  elems::Vector{Any}\n",
    "end\n",
    "\n",
    "Base.:(∈)(a, A::Vec𝔽) = a ∈ A.elems\n",
    "\n",
    "Base.iterate(A::Vec𝔽) = iterate(A.elems)\n",
    "Base.iterate(A::Vec𝔽, k) = iterate(A.elems, k)\n",
    "Base.length(A::Vec𝔽) = length(A.elems)\n",
    "\n",
    "struct Int𝔽 <: 𝔽\n",
    "  n::Int\n",
    "end\n",
    "\n",
    "Base.:(∈)(a, A::Int𝔽) = 1 <= a <= A.n\n",
    "\n",
    "Base.iterate(A::Int𝔽) = iterate(1:A.n)\n",
    "Base.iterate(A::Int𝔽, k) = iterate(1:A.n, k)\n",
    "\n",
    "struct 𝔽Mor\n",
    "  dom::𝔽\n",
    "  codom::𝔽\n",
    "  vals::Dict{Any,Any}\n",
    "end\n",
    "\n",
    "(f::𝔽Mor)(x) = f.vals[x]\n",
    "\n",
    "struct Int𝔽Mor\n",
    "  dom::Int𝔽\n",
    "  codom::Int𝔽\n",
    "  vals::Vector{Int}\n",
    "end\n",
    "\n",
    "(f::Int𝔽Mor)(i) = f.vals[i]\n",
    "\n",
    "isvalid(f::𝔽Mor) =\n",
    "  all(x ∈ keys(f.vals) && f(x) ∈ f.codom for x in f.dom)"
   ]
  },
  {
   "cell_type": "code",
   "execution_count": 4,
   "id": "346d92bc-4dda-414b-8038-acc1df3200dd",
   "metadata": {},
   "outputs": [],
   "source": [
    "struct FiniteSet <: ComputableSet\n",
    "    X::𝔽\n",
    "end"
   ]
  },
  {
   "cell_type": "code",
   "execution_count": 5,
   "id": "c21b5ead-43f1-4839-b46b-7e16f168c1b3",
   "metadata": {},
   "outputs": [],
   "source": [
    "Base.in(x, χ::FiniteSet) = x ∈ χ.X"
   ]
  },
  {
   "cell_type": "code",
   "execution_count": 6,
   "id": "26a4c3d6-8f22-4036-acd9-a405a5286bc2",
   "metadata": {},
   "outputs": [],
   "source": [
    "struct TypeSet <: ComputableSet\n",
    "    T::Type\n",
    "end"
   ]
  },
  {
   "cell_type": "code",
   "execution_count": 7,
   "id": "5c402f24-56b9-4d2d-96f0-7171a030ae25",
   "metadata": {},
   "outputs": [],
   "source": [
    "Base.in(x, χ::TypeSet) = x isa χ.T"
   ]
  },
  {
   "cell_type": "code",
   "execution_count": 8,
   "id": "d6c5f849-13c1-47a7-9bbf-e465c05a9f57",
   "metadata": {},
   "outputs": [
    {
     "data": {
      "text/plain": [
       "true"
      ]
     },
     "execution_count": 8,
     "metadata": {},
     "output_type": "execute_result"
    }
   ],
   "source": [
    "3 ∈ TypeSet(Int)"
   ]
  },
  {
   "cell_type": "code",
   "execution_count": 9,
   "id": "86f1a9da-b3f0-44fa-af11-1289a9adf54b",
   "metadata": {},
   "outputs": [
    {
     "data": {
      "text/plain": [
       "false"
      ]
     },
     "execution_count": 9,
     "metadata": {},
     "output_type": "execute_result"
    }
   ],
   "source": [
    ":a ∈ TypeSet(Float64)"
   ]
  },
  {
   "cell_type": "code",
   "execution_count": 10,
   "id": "e3655844-6324-4197-ad34-5a9cfdd70709",
   "metadata": {},
   "outputs": [],
   "source": [
    "abstract type EnumerableSet <: ComputableSet end"
   ]
  },
  {
   "cell_type": "code",
   "execution_count": 11,
   "id": "45f4245a-d871-4dc3-8fff-89c6d1a434fc",
   "metadata": {},
   "outputs": [],
   "source": [
    "struct UnionSet <: ComputableSet\n",
    "    A::ComputableSet\n",
    "    B::ComputableSet\n",
    "end"
   ]
  },
  {
   "cell_type": "code",
   "execution_count": 12,
   "id": "bfd8f889-0f00-4df9-9bea-913039378e8c",
   "metadata": {},
   "outputs": [],
   "source": [
    "Base.in(x, χ::UnionSet) = (x in χ.A) || (x in χ.B)"
   ]
  },
  {
   "cell_type": "code",
   "execution_count": 13,
   "id": "29352760-58d4-4119-abc6-0e9f575ff976",
   "metadata": {},
   "outputs": [],
   "source": [
    "struct IntersectionSet <: ComputableSet\n",
    "    A::ComputableSet\n",
    "    B::ComputableSet\n",
    "end\n",
    "\n",
    "Base.in(x, χ::IntersectionSet) = (x in χ.A) && (x in χ.B)"
   ]
  },
  {
   "cell_type": "code",
   "execution_count": 14,
   "id": "d195b9d8-20e4-4cf4-b8ef-3a508ed0a829",
   "metadata": {},
   "outputs": [
    {
     "data": {
      "text/plain": [
       "true"
      ]
     },
     "execution_count": 14,
     "metadata": {},
     "output_type": "execute_result"
    }
   ],
   "source": [
    "3 ∈ IntersectionSet(TypeSet(Int), FiniteSet(Vec𝔽([:a,3,9])))"
   ]
  },
  {
   "cell_type": "code",
   "execution_count": 15,
   "id": "089a3bdc-8ac2-4de8-98ee-14beb306b2e0",
   "metadata": {},
   "outputs": [],
   "source": [
    "struct ProductSet <: ComputableSet\n",
    "    A::ComputableSet\n",
    "    B::ComputableSet\n",
    "end\n",
    "\n",
    "Base.in(x, χ::ProductSet) = (x isa Tuple) && (length(x) == 2) && (x[1] in χ.A) && (x[2] in χ.B)"
   ]
  },
  {
   "cell_type": "code",
   "execution_count": 16,
   "id": "b9630245-8378-415f-a915-76410b38d15d",
   "metadata": {},
   "outputs": [
    {
     "data": {
      "text/plain": [
       "true"
      ]
     },
     "execution_count": 16,
     "metadata": {},
     "output_type": "execute_result"
    }
   ],
   "source": [
    "(2,3) ∈ ProductSet(FiniteSet(Vec𝔽([2,3])),FiniteSet(Vec𝔽([2,3])))"
   ]
  },
  {
   "cell_type": "code",
   "execution_count": 17,
   "id": "c26b4bec-d254-4af5-97a6-a7dea21e0568",
   "metadata": {},
   "outputs": [],
   "source": [
    "struct Left\n",
    "    val::Any\n",
    "end\n",
    "\n",
    "struct Right\n",
    "    val::Any\n",
    "end\n",
    "\n",
    "struct SumSet <: ComputableSet\n",
    "    A::ComputableSet\n",
    "    B::ComputableSet\n",
    "end\n",
    "\n",
    "Base.in(x::Left, χ::SumSet) = x.val ∈ χ.A\n",
    "Base.in(x::Right, χ::SumSet) = x.val ∈ χ.B"
   ]
  },
  {
   "cell_type": "code",
   "execution_count": 18,
   "id": "f36946e3-3f87-4a01-a9d9-580d289ea6ad",
   "metadata": {},
   "outputs": [
    {
     "data": {
      "text/plain": [
       "true"
      ]
     },
     "execution_count": 18,
     "metadata": {},
     "output_type": "execute_result"
    }
   ],
   "source": [
    "Right(\"foo\") ∈ SumSet(TypeSet(Int), TypeSet(String))"
   ]
  },
  {
   "cell_type": "code",
   "execution_count": 19,
   "id": "4880a213-32fb-4e31-9865-3aa44c53de4e",
   "metadata": {},
   "outputs": [],
   "source": [
    "struct SingletonSet <: ComputableSet\n",
    "    val::Any\n",
    "end\n",
    "\n",
    "Base.in(x, χ::SingletonSet) = x == χ.val"
   ]
  },
  {
   "cell_type": "code",
   "execution_count": 30,
   "id": "7ac7867b-0e0e-42df-b8df-7e80114402f2",
   "metadata": {},
   "outputs": [
    {
     "ename": "BoundsError",
     "evalue": "BoundsError: attempt to access 69-codeunit String at index [1:70]",
     "output_type": "error",
     "traceback": [
      "KERNEL EXCEPTION",
      "BoundsError: attempt to access 69-codeunit String at index [1:70]",
      "",
      "Stacktrace:",
      " [1] checkbounds",
      "   @ ./strings/basic.jl:216 [inlined]",
      " [2] getindex(s::String, r::UnitRange{Int64})",
      "   @ Base ./strings/string.jl:265",
      " [3] complete_request(socket::ZMQ.Socket, msg::IJulia.Msg)",
      "   @ IJulia ~/.julia/packages/IJulia/AQu2H/src/handlers.jl:115",
      " [4] #invokelatest#2",
      "   @ ./essentials.jl:729 [inlined]",
      " [5] invokelatest",
      "   @ ./essentials.jl:726 [inlined]",
      " [6] eventloop(socket::ZMQ.Socket)",
      "   @ IJulia ~/.julia/packages/IJulia/AQu2H/src/eventloop.jl:8",
      " [7] (::IJulia.var\"#15#18\")()",
      "   @ IJulia ./task.jl:484"
     ]
    },
    {
     "ename": "BoundsError",
     "evalue": "BoundsError: attempt to access 69-codeunit String at index [1:70]",
     "output_type": "error",
     "traceback": [
      "KERNEL EXCEPTION",
      "BoundsError: attempt to access 69-codeunit String at index [1:70]",
      "",
      "Stacktrace:",
      " [1] checkbounds",
      "   @ ./strings/basic.jl:216 [inlined]",
      " [2] getindex(s::String, r::UnitRange{Int64})",
      "   @ Base ./strings/string.jl:265",
      " [3] complete_request(socket::ZMQ.Socket, msg::IJulia.Msg)",
      "   @ IJulia ~/.julia/packages/IJulia/AQu2H/src/handlers.jl:115",
      " [4] #invokelatest#2",
      "   @ ./essentials.jl:729 [inlined]",
      " [5] invokelatest",
      "   @ ./essentials.jl:726 [inlined]",
      " [6] eventloop(socket::ZMQ.Socket)",
      "   @ IJulia ~/.julia/packages/IJulia/AQu2H/src/eventloop.jl:8",
      " [7] (::IJulia.var\"#15#18\")()",
      "   @ IJulia ./task.jl:484"
     ]
    }
   ],
   "source": [
    "struct PredicatedSet <: ComputableSet\n",
    "    T::Type\n",
    "    p::Any\n",
    "end\n",
    "\n",
    "Base.in(x, χ::PredicatedSet) = (x isa χ.T) && χ.p(x)    "
   ]
  },
  {
   "cell_type": "code",
   "execution_count": 23,
   "id": "c9f02975-2042-4765-bf56-02b7bffdf2e4",
   "metadata": {},
   "outputs": [],
   "source": [
    "abstract type SmallCategory end"
   ]
  },
  {
   "cell_type": "code",
   "execution_count": 25,
   "id": "4fbe4710-4b83-4ad2-8796-10c1ea3ebf66",
   "metadata": {},
   "outputs": [
    {
     "data": {
      "text/plain": [
       "Hom (generic function with 2 methods)"
      ]
     },
     "execution_count": 25,
     "metadata": {},
     "output_type": "execute_result"
    }
   ],
   "source": [
    "Ob(c::SmallCategory) = error()\n",
    "Hom(c::SmallCategory, x, y) = begin\n",
    "    @assert x ∈ Ob(c)\n",
    "    @assert y ∈ Ob(c)\n",
    "    error()\n",
    "end"
   ]
  },
  {
   "cell_type": "code",
   "execution_count": 26,
   "id": "d3e00770-b9f3-44dd-9e2f-d9644a71f9e5",
   "metadata": {},
   "outputs": [
    {
     "data": {
      "text/plain": [
       "compose (generic function with 1 method)"
      ]
     },
     "execution_count": 26,
     "metadata": {},
     "output_type": "execute_result"
    }
   ],
   "source": [
    "compose(c::SmallCategory, x, y, z, f, g) = begin\n",
    "    @assert x ∈ Ob(c)\n",
    "    @assert y ∈ Ob(c)\n",
    "    @assert z ∈ Ob(c)\n",
    "    @assert f ∈ Hom(c, x, y)\n",
    "    @assert g ∈ Hom(c, y, z)\n",
    "    error()\n",
    "end"
   ]
  },
  {
   "cell_type": "code",
   "execution_count": 27,
   "id": "5151d101-07b5-4b70-a74c-bb304bf54003",
   "metadata": {},
   "outputs": [],
   "source": [
    "struct FinSet <: Category\n",
    "end"
   ]
  },
  {
   "cell_type": "code",
   "execution_count": 39,
   "id": "df51b4de-f2a3-45b7-b68a-99670ede1d98",
   "metadata": {},
   "outputs": [
    {
     "data": {
      "text/plain": [
       "Hom (generic function with 3 methods)"
      ]
     },
     "execution_count": 39,
     "metadata": {},
     "output_type": "execute_result"
    }
   ],
   "source": [
    "Ob(::FinSet) = TypeSet(𝔽)\n",
    "Hom(::FinSet, x, y) = PredicatedSet(𝔽Mor, f -> (isvalid(f) && f.dom == x && f.codom == y))"
   ]
  },
  {
   "cell_type": "code",
   "execution_count": 35,
   "id": "096e22b9-5702-4769-a6ea-1ef4fe913725",
   "metadata": {},
   "outputs": [
    {
     "data": {
      "text/plain": [
       "𝔽Mor(Vec𝔽(Any[1, 2, 3]), Vec𝔽(Any[3, 4]), Dict{Any, Any}(2 => 3, 3 => 4, 1 => 3))"
      ]
     },
     "execution_count": 35,
     "metadata": {},
     "output_type": "execute_result"
    }
   ],
   "source": [
    "A = Vec𝔽([1,2,3]); B = Vec𝔽([3,4])\n",
    "f = 𝔽Mor(A,B,Dict(1=>3,2=>3,3=>4))"
   ]
  },
  {
   "cell_type": "code",
   "execution_count": 38,
   "id": "ef7fe811-e724-4c3d-b19a-e32cd99be3cc",
   "metadata": {},
   "outputs": [
    {
     "data": {
      "text/plain": [
       "true"
      ]
     },
     "execution_count": 38,
     "metadata": {},
     "output_type": "execute_result"
    }
   ],
   "source": [
    "f ∈ Hom(FinSet(), A, B)"
   ]
  },
  {
   "cell_type": "code",
   "execution_count": 41,
   "id": "e67acbb0-b884-4c31-a4cb-b9dd960f7b6f",
   "metadata": {},
   "outputs": [
    {
     "data": {
      "text/plain": [
       "compose (generic function with 2 methods)"
      ]
     },
     "execution_count": 41,
     "metadata": {},
     "output_type": "execute_result"
    }
   ],
   "source": [
    "compose(c::FinSet, x, y, z, f, g) = begin\n",
    "    @assert x ∈ Ob(c)\n",
    "    @assert y ∈ Ob(c)\n",
    "    @assert z ∈ Ob(c)\n",
    "    @assert f ∈ Hom(c, x, y)\n",
    "    @assert g ∈ Hom(c, y, z)\n",
    "    𝔽Mor(f.dom, g.codom, Dict(a => g(f(a)) for a in f.dom))\n",
    "end"
   ]
  },
  {
   "cell_type": "code",
   "execution_count": 42,
   "id": "4780e4d4-60dd-4eb5-9e39-1ea951f63cfe",
   "metadata": {},
   "outputs": [],
   "source": [
    "struct MatrixCat <: Category\n",
    "end"
   ]
  },
  {
   "cell_type": "code",
   "execution_count": 43,
   "id": "1d64f1e3-a760-4fe0-bfd2-b9e4fe9a3f1f",
   "metadata": {},
   "outputs": [
    {
     "data": {
      "text/plain": [
       "Ob (generic function with 4 methods)"
      ]
     },
     "execution_count": 43,
     "metadata": {},
     "output_type": "execute_result"
    }
   ],
   "source": [
    "Ob(::MatrixCat) = PredicatedSet(Int, x -> x >= 0)"
   ]
  },
  {
   "cell_type": "code",
   "execution_count": 58,
   "id": "f28ccc35-5f87-4eec-90ba-b34f842b4c42",
   "metadata": {},
   "outputs": [
    {
     "data": {
      "text/plain": [
       "Hom (generic function with 4 methods)"
      ]
     },
     "execution_count": 58,
     "metadata": {},
     "output_type": "execute_result"
    }
   ],
   "source": [
    "Hom(c::MatrixCat, x, y) = begin\n",
    "    @assert x ∈ Ob(c)\n",
    "    @assert y ∈ Ob(c)\n",
    "    PredicatedSet(AbstractMatrix, m -> size(m)[1] == x && size(m)[2] == y)\n",
    "end"
   ]
  },
  {
   "cell_type": "code",
   "execution_count": 47,
   "id": "3c999a1a-7c6a-439f-98b3-246e63137ec5",
   "metadata": {},
   "outputs": [
    {
     "data": {
      "text/plain": [
       "true"
      ]
     },
     "execution_count": 47,
     "metadata": {},
     "output_type": "execute_result"
    }
   ],
   "source": [
    "[1 2; 2 3; 3 4] ∈ Hom(MatrixCat(), 3, 2)"
   ]
  },
  {
   "cell_type": "code",
   "execution_count": 48,
   "id": "4558fd63-bd79-473c-8db2-85a816aff35d",
   "metadata": {},
   "outputs": [
    {
     "data": {
      "text/plain": [
       "compose (generic function with 3 methods)"
      ]
     },
     "execution_count": 48,
     "metadata": {},
     "output_type": "execute_result"
    }
   ],
   "source": [
    "compose(c::MatrixCat, x, y, z, f, g) = begin\n",
    "    @assert x ∈ Ob(c)\n",
    "    @assert y ∈ Ob(c)\n",
    "    @assert z ∈ Ob(c)\n",
    "    @assert f ∈ Hom(c, x, y)\n",
    "    @assert g ∈ Hom(c, y, z)\n",
    "    f * g\n",
    "end"
   ]
  },
  {
   "cell_type": "code",
   "execution_count": 51,
   "id": "28cf0501-6295-4a21-93e4-56d1e012ce75",
   "metadata": {},
   "outputs": [
    {
     "data": {
      "text/plain": [
       "3×3 Matrix{Int64}:\n",
       "  5   8  11\n",
       "  8  13  18\n",
       " 11  18  25"
      ]
     },
     "execution_count": 51,
     "metadata": {},
     "output_type": "execute_result"
    }
   ],
   "source": [
    "compose(MatrixCat(), 3, 2, 3, [1 2; 2 3; 3 4], collect([1 2; 2 3; 3 4]'))"
   ]
  },
  {
   "cell_type": "code",
   "execution_count": 52,
   "id": "797b6bf3-86cd-434f-bdac-66f58b22c2d0",
   "metadata": {},
   "outputs": [
    {
     "data": {
      "text/plain": [
       "2×1 adjoint(::Matrix{Int64}) with eltype Int64:\n",
       " 1\n",
       " 2"
      ]
     },
     "execution_count": 52,
     "metadata": {},
     "output_type": "execute_result"
    }
   ],
   "source": [
    "[1 2]'"
   ]
  },
  {
   "cell_type": "code",
   "execution_count": 55,
   "id": "cfa137b2-b407-4d14-949e-7eed6fb56c48",
   "metadata": {},
   "outputs": [
    {
     "data": {
      "text/plain": [
       "dot (generic function with 1 method)"
      ]
     },
     "execution_count": 55,
     "metadata": {},
     "output_type": "execute_result"
    }
   ],
   "source": [
    "dot(v,w) = v * w'"
   ]
  },
  {
   "cell_type": "code",
   "execution_count": 56,
   "id": "287eb1e2-c3e6-4ab5-91c3-d297d43f49db",
   "metadata": {},
   "outputs": [
    {
     "data": {
      "text/plain": [
       "1×1 Matrix{Int64}:\n",
       " 23"
      ]
     },
     "execution_count": 56,
     "metadata": {},
     "output_type": "execute_result"
    }
   ],
   "source": [
    "dot([2 3], [4 5])"
   ]
  },
  {
   "cell_type": "code",
   "execution_count": 61,
   "id": "052af0ac-1a25-448f-9ec2-7bb05a27639b",
   "metadata": {},
   "outputs": [
    {
     "name": "stderr",
     "output_type": "stream",
     "text": [
      "WARNING: using LinearAlgebra.dot in module Main conflicts with an existing identifier.\n"
     ]
    },
    {
     "data": {
      "text/plain": [
       "identity (generic function with 1 method)"
      ]
     },
     "execution_count": 61,
     "metadata": {},
     "output_type": "execute_result"
    }
   ],
   "source": [
    "using LinearAlgebra\n",
    "\n",
    "identity(c::MatrixCat, x) = begin\n",
    "    @assert x ∈ Ob(c)\n",
    "    I(x)\n",
    "end"
   ]
  },
  {
   "cell_type": "code",
   "execution_count": 63,
   "id": "c9249056-23d5-476e-ba84-4c9fd0f60aa3",
   "metadata": {},
   "outputs": [
    {
     "data": {
      "text/plain": [
       "true"
      ]
     },
     "execution_count": 63,
     "metadata": {},
     "output_type": "execute_result"
    }
   ],
   "source": [
    "identity(MatrixCat(), 4) ∈ Hom(MatrixCat(), 4, 4)"
   ]
  },
  {
   "cell_type": "code",
   "execution_count": null,
   "id": "a838560f-3429-4e48-8a8f-8190236ea2b3",
   "metadata": {},
   "outputs": [],
   "source": []
  }
 ],
 "metadata": {
  "kernelspec": {
   "display_name": "Julia 1.8.3",
   "language": "julia",
   "name": "julia-1.8"
  },
  "language_info": {
   "file_extension": ".jl",
   "mimetype": "application/julia",
   "name": "julia",
   "version": "1.8.3"
  }
 },
 "nbformat": 4,
 "nbformat_minor": 5
}
