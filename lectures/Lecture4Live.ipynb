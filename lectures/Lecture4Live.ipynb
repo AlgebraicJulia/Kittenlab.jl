{
 "cells": [
  {
   "cell_type": "code",
   "execution_count": 1,
   "id": "26b44169-136a-4062-a383-817c5a80baf0",
   "metadata": {},
   "outputs": [
    {
     "data": {
      "text/plain": [
       "Main.Categories"
      ]
     },
     "execution_count": 1,
     "metadata": {},
     "output_type": "execute_result"
    }
   ],
   "source": [
    "include(\"../src/Categories.jl\")"
   ]
  },
  {
   "cell_type": "code",
   "execution_count": 2,
   "id": "f7ffc9b9-d21b-4007-bc20-5dcf527ad37a",
   "metadata": {},
   "outputs": [
    {
     "data": {
      "text/plain": [
       "Main.Functors"
      ]
     },
     "execution_count": 2,
     "metadata": {},
     "output_type": "execute_result"
    }
   ],
   "source": [
    "include(\"../src/Functors.jl\")"
   ]
  },
  {
   "cell_type": "code",
   "execution_count": 3,
   "id": "f751a880-4e47-4a75-b970-5c4e96ad73bd",
   "metadata": {},
   "outputs": [],
   "source": [
    "using .Categories"
   ]
  },
  {
   "cell_type": "code",
   "execution_count": 4,
   "id": "53170335-7c7e-4ca2-979e-3a67bb9de9ca",
   "metadata": {},
   "outputs": [],
   "source": [
    "using .Functors"
   ]
  },
  {
   "cell_type": "code",
   "execution_count": 5,
   "id": "b536e9dd-c86a-4c86-a400-af9c62e79aca",
   "metadata": {},
   "outputs": [],
   "source": [
    "using LinearAlgebra"
   ]
  },
  {
   "cell_type": "code",
   "execution_count": 6,
   "id": "a051eaad-9030-4a1e-b498-776be831529d",
   "metadata": {},
   "outputs": [],
   "source": [
    "struct MatC <: Category{Int,AbstractMatrix{Int}}\n",
    "end"
   ]
  },
  {
   "cell_type": "code",
   "execution_count": 7,
   "id": "4a54ed7e-2ea5-4b5d-9c0a-566ad5a5a9de",
   "metadata": {},
   "outputs": [],
   "source": [
    "Categories.dom(::MatC, m::AbstractMatrix{Int}) = size(m)[1]"
   ]
  },
  {
   "cell_type": "code",
   "execution_count": 8,
   "id": "006dedcf-ae53-4740-bdb3-4562c7a3c277",
   "metadata": {},
   "outputs": [],
   "source": [
    "Categories.codom(::MatC, m::AbstractMatrix{Int}) = size(m)[2]"
   ]
  },
  {
   "cell_type": "code",
   "execution_count": 9,
   "id": "2528625c-197c-4aaa-b0e2-61f7da94b8e0",
   "metadata": {},
   "outputs": [],
   "source": [
    "Categories.id(::MatC, n::Int) = I(n)"
   ]
  },
  {
   "cell_type": "code",
   "execution_count": 10,
   "id": "febe9117-13f6-496b-ae61-a55d93e89718",
   "metadata": {},
   "outputs": [],
   "source": [
    "Categories.compose(::MatC, f::AbstractMatrix{Int}, g::AbstractMatrix{Int}) = f * g"
   ]
  },
  {
   "cell_type": "code",
   "execution_count": 11,
   "id": "1640b218-19e3-45cd-9524-463f72b86f3f",
   "metadata": {},
   "outputs": [],
   "source": [
    "struct FinFunction\n",
    "    dom::Int\n",
    "    codom::Int\n",
    "    values::Vector{Int}\n",
    "end"
   ]
  },
  {
   "cell_type": "code",
   "execution_count": 12,
   "id": "664b2f30-6c5e-4bb2-9cdf-3bcba53ceb8e",
   "metadata": {},
   "outputs": [],
   "source": [
    "struct FinC <: Category{Int, FinFunction}\n",
    "end"
   ]
  },
  {
   "cell_type": "code",
   "execution_count": 13,
   "id": "7b130c26-146e-420f-9284-284a048539dd",
   "metadata": {},
   "outputs": [],
   "source": [
    "Categories.dom(::FinC, f) = f.dom"
   ]
  },
  {
   "cell_type": "code",
   "execution_count": 14,
   "id": "8a8bf764-6069-4b8f-a593-0244ec4dcf86",
   "metadata": {},
   "outputs": [],
   "source": [
    "Categories.codom(::FinC, f) = f.codom"
   ]
  },
  {
   "cell_type": "code",
   "execution_count": 15,
   "id": "bb8aec66-1ee6-45eb-a7cd-7cef58f20114",
   "metadata": {},
   "outputs": [],
   "source": [
    "Categories.compose(::FinC, f::FinFunction, g::FinFunction) = FinFunction(f.dom, g.codom, [g.values[f.values[i]] for i in 1:f.dom])"
   ]
  },
  {
   "cell_type": "code",
   "execution_count": 16,
   "id": "8b4645f3-738a-4f8a-a6c9-5467f09fad74",
   "metadata": {},
   "outputs": [],
   "source": [
    "Categories.id(::FinC, n::Int) = FinFunction(n, n, [i for i in 1:n])"
   ]
  },
  {
   "cell_type": "code",
   "execution_count": 17,
   "id": "e9668a95-18c6-40ba-95c5-8970c7476312",
   "metadata": {},
   "outputs": [],
   "source": [
    "struct F <: Functor{FinC, MatC}\n",
    "end"
   ]
  },
  {
   "cell_type": "code",
   "execution_count": 18,
   "id": "fa238f85-c676-443b-9539-732145f5cfcc",
   "metadata": {},
   "outputs": [],
   "source": [
    "Categories.dom(::KittenC, ::F) = FinC()"
   ]
  },
  {
   "cell_type": "code",
   "execution_count": 19,
   "id": "8bc818e0-9b2c-4435-9a8e-7aea311d6067",
   "metadata": {},
   "outputs": [],
   "source": [
    "Categories.codom(::KittenC, ::F) = MatC()"
   ]
  },
  {
   "cell_type": "code",
   "execution_count": 20,
   "id": "e9870da2-3fdb-41d0-b333-638aae7f7ae9",
   "metadata": {},
   "outputs": [],
   "source": [
    "Functors.ob_map(::F, n::Int) = n"
   ]
  },
  {
   "cell_type": "code",
   "execution_count": 21,
   "id": "36acc685-b586-4c4c-a14a-2aee208d102a",
   "metadata": {},
   "outputs": [],
   "source": [
    "function Functors.hom_map(::F, f::FinFunction)\n",
    "    A = zeros(Int, (f.dom, f.codom))\n",
    "    for i in 1:f.dom\n",
    "        A[i,f.values[i]] = 1\n",
    "    end\n",
    "    A\n",
    "end"
   ]
  },
  {
   "cell_type": "code",
   "execution_count": 22,
   "id": "a6e13487-1c82-4444-bcb4-e1240d25a864",
   "metadata": {},
   "outputs": [
    {
     "data": {
      "text/plain": [
       "FinFunction(3, 2, [2, 1, 2])"
      ]
     },
     "execution_count": 22,
     "metadata": {},
     "output_type": "execute_result"
    }
   ],
   "source": [
    "f = FinFunction(3, 2, [2,1,2])"
   ]
  },
  {
   "cell_type": "code",
   "execution_count": 23,
   "id": "a25ccdc9-6909-463c-b144-b343df42781d",
   "metadata": {},
   "outputs": [
    {
     "data": {
      "text/plain": [
       "FinFunction(2, 4, [4, 2])"
      ]
     },
     "execution_count": 23,
     "metadata": {},
     "output_type": "execute_result"
    }
   ],
   "source": [
    "g = FinFunction(2, 4, [4,2])"
   ]
  },
  {
   "cell_type": "code",
   "execution_count": 24,
   "id": "22efc5b8-ca56-44d6-a66e-0675991d5816",
   "metadata": {},
   "outputs": [
    {
     "data": {
      "text/plain": [
       "FinFunction(3, 4, [2, 4, 2])"
      ]
     },
     "execution_count": 24,
     "metadata": {},
     "output_type": "execute_result"
    }
   ],
   "source": [
    "compose(FinC(), f, g)"
   ]
  },
  {
   "cell_type": "code",
   "execution_count": 25,
   "id": "2d42ad37-ba52-4e72-9c58-bd5407a02dc7",
   "metadata": {},
   "outputs": [
    {
     "data": {
      "text/plain": [
       "3×4 Matrix{Int64}:\n",
       " 0  1  0  0\n",
       " 0  0  0  1\n",
       " 0  1  0  0"
      ]
     },
     "execution_count": 25,
     "metadata": {},
     "output_type": "execute_result"
    }
   ],
   "source": [
    "hom_map(F(), compose(FinC(), f, g))"
   ]
  },
  {
   "cell_type": "code",
   "execution_count": 26,
   "id": "afd4d39e-07cc-4b1c-9afd-f49430a1554a",
   "metadata": {},
   "outputs": [
    {
     "data": {
      "text/plain": [
       "3×4 Matrix{Int64}:\n",
       " 0  1  0  0\n",
       " 0  0  0  1\n",
       " 0  1  0  0"
      ]
     },
     "execution_count": 26,
     "metadata": {},
     "output_type": "execute_result"
    }
   ],
   "source": [
    "compose(MatC(), hom_map(F(), f), hom_map(F(), g))"
   ]
  },
  {
   "cell_type": "code",
   "execution_count": 27,
   "id": "7b78716f-403f-49db-bbfa-644c8b9fb335",
   "metadata": {},
   "outputs": [
    {
     "data": {
      "text/plain": [
       "3×2 Matrix{Int64}:\n",
       " 0  1\n",
       " 1  0\n",
       " 0  1"
      ]
     },
     "execution_count": 27,
     "metadata": {},
     "output_type": "execute_result"
    }
   ],
   "source": [
    "hom_map(F(), f)"
   ]
  },
  {
   "cell_type": "code",
   "execution_count": 28,
   "id": "9e9c34e2-c1d1-4e08-8dcc-18fda3c24f62",
   "metadata": {},
   "outputs": [
    {
     "data": {
      "text/plain": [
       "2×4 Matrix{Int64}:\n",
       " 0  0  0  1\n",
       " 0  1  0  0"
      ]
     },
     "execution_count": 28,
     "metadata": {},
     "output_type": "execute_result"
    }
   ],
   "source": [
    "hom_map(F(), g)"
   ]
  },
  {
   "cell_type": "code",
   "execution_count": null,
   "id": "7329889a-8b8b-4ddb-90e7-37a4cce93ecb",
   "metadata": {},
   "outputs": [],
   "source": []
  }
 ],
 "metadata": {
  "kernelspec": {
   "display_name": "Julia 1.8.3",
   "language": "julia",
   "name": "julia-1.8"
  },
  "language_info": {
   "file_extension": ".jl",
   "mimetype": "application/julia",
   "name": "julia",
   "version": "1.8.3"
  }
 },
 "nbformat": 4,
 "nbformat_minor": 5
}
