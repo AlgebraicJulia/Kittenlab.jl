{
 "cells": [
  {
   "cell_type": "code",
   "execution_count": 1,
   "id": "97716f2a-409c-40fc-9373-760c824589bc",
   "metadata": {},
   "outputs": [
    {
     "data": {
      "text/plain": [
       "Main.FinSets"
      ]
     },
     "execution_count": 1,
     "metadata": {},
     "output_type": "execute_result"
    }
   ],
   "source": [
    "include(\"../src/Categories.jl\")\n",
    "include(\"../src/FinSets.jl\")"
   ]
  },
  {
   "cell_type": "code",
   "execution_count": 2,
   "id": "733b4ea7-9d45-4439-addc-deb14addf4ad",
   "metadata": {},
   "outputs": [],
   "source": [
    "using .Categories, .FinSets"
   ]
  },
  {
   "cell_type": "code",
   "execution_count": 3,
   "id": "78278906-0ebd-4db7-b684-ade72ab1bb61",
   "metadata": {},
   "outputs": [],
   "source": [
    "struct Graph\n",
    "    vertices::FinSet{Symbol}\n",
    "    edges::FinSet{Symbol}\n",
    "    src::Dict{Symbol,Symbol}\n",
    "    tgt::Dict{Symbol,Symbol}\n",
    "end"
   ]
  },
  {
   "cell_type": "code",
   "execution_count": 4,
   "id": "81f1ebc1-4236-4190-8b5b-4f209b752dbb",
   "metadata": {},
   "outputs": [],
   "source": [
    "struct ACSet\n",
    "    schema::Graph\n",
    "    nextId::Ref{Int}\n",
    "    parts::Dict{Symbol, FinSet{Int}}\n",
    "    subparts::Dict{Symbol, Dict{Int,Int}}\n",
    "    function ACSet(schema::Graph)\n",
    "        new(\n",
    "            schema,\n",
    "            Ref(0),\n",
    "            Dict{Symbol,FinSet{Int}}(ob => Set{Int}() for ob in schema.vertices),\n",
    "            Dict{Symbol,Dict{Int,Int}}(hom => Dict{Int,Int}() for hom in schema.edges)\n",
    "        )\n",
    "    end\n",
    "end"
   ]
  },
  {
   "cell_type": "code",
   "execution_count": 5,
   "id": "087d8498-bf9f-4659-8bac-57c998eff278",
   "metadata": {},
   "outputs": [
    {
     "data": {
      "text/plain": [
       "Graph(Set([:V, :E]), Set([:src, :tgt]), Dict(:src => :E, :tgt => :E), Dict(:src => :V, :tgt => :V))"
      ]
     },
     "execution_count": 5,
     "metadata": {},
     "output_type": "execute_result"
    }
   ],
   "source": [
    "Gr = Graph(Set([:V,:E]), Set([:src,:tgt]), Dict(:src => :E, :tgt => :E), Dict(:src => :V, :tgt => :V))"
   ]
  },
  {
   "cell_type": "code",
   "execution_count": 6,
   "id": "1ba93f37-0737-4d7f-9f76-dd644bce11cd",
   "metadata": {},
   "outputs": [
    {
     "data": {
      "text/plain": [
       "ACSet(Graph(Set([:V, :E]), Set([:src, :tgt]), Dict(:src => :E, :tgt => :E), Dict(:src => :V, :tgt => :V)), Base.RefValue{Int64}(0), Dict{Symbol, AbstractSet{Int64}}(:V => Set{Int64}(), :E => Set{Int64}()), Dict(:src => Dict(), :tgt => Dict()))"
      ]
     },
     "execution_count": 6,
     "metadata": {},
     "output_type": "execute_result"
    }
   ],
   "source": [
    "g = ACSet(Gr)"
   ]
  },
  {
   "cell_type": "code",
   "execution_count": 27,
   "id": "9bda76b7-1d44-456b-ac99-6f539cf62d84",
   "metadata": {},
   "outputs": [
    {
     "data": {
      "text/plain": [
       "add_parts! (generic function with 1 method)"
      ]
     },
     "execution_count": 27,
     "metadata": {},
     "output_type": "execute_result"
    }
   ],
   "source": [
    "function add_parts!(acs::ACSet, ob::Symbol, n::Int)\n",
    "    @assert ob ∈ acs.schema.vertices\n",
    "    i = acs.nextId[]\n",
    "    acs.nextId[] += n\n",
    "    union!(acs.parts[ob], i:(i+n-1))\n",
    "    i:(i+n-1)\n",
    "end"
   ]
  },
  {
   "cell_type": "code",
   "execution_count": 8,
   "id": "5487d707-00fd-4390-806d-57cc078969fe",
   "metadata": {},
   "outputs": [],
   "source": [
    "struct ACSetTransformation\n",
    "    schema::Graph\n",
    "    dom::ACSet\n",
    "    codom::ACSet\n",
    "    components::Dict{Symbol, Dict{Int,Int}}\n",
    "end"
   ]
  },
  {
   "cell_type": "code",
   "execution_count": 28,
   "id": "65e177d7-af3d-4cce-88f0-d86ee694baca",
   "metadata": {},
   "outputs": [
    {
     "data": {
      "text/plain": [
       "(ACSet(Graph(Set([:V, :E]), Set([:src, :tgt]), Dict(:src => :E, :tgt => :E), Dict(:src => :V, :tgt => :V)), Base.RefValue{Int64}(0), Dict{Symbol, AbstractSet{Int64}}(:V => Set{Int64}(), :E => Set{Int64}()), Dict(:src => Dict(), :tgt => Dict())), ACSet(Graph(Set([:V, :E]), Set([:src, :tgt]), Dict(:src => :E, :tgt => :E), Dict(:src => :V, :tgt => :V)), Base.RefValue{Int64}(0), Dict{Symbol, AbstractSet{Int64}}(:V => Set{Int64}(), :E => Set{Int64}()), Dict(:src => Dict(), :tgt => Dict())))"
      ]
     },
     "execution_count": 28,
     "metadata": {},
     "output_type": "execute_result"
    }
   ],
   "source": [
    "g, h = ACSet(Gr), ACSet(Gr)"
   ]
  },
  {
   "cell_type": "code",
   "execution_count": 29,
   "id": "b617f748-77c1-4755-97a8-5e8ab7291969",
   "metadata": {},
   "outputs": [
    {
     "data": {
      "text/plain": [
       "(0:2, 3:4)"
      ]
     },
     "execution_count": 29,
     "metadata": {},
     "output_type": "execute_result"
    }
   ],
   "source": [
    "add_parts!(g, :V, 3), add_parts!(g, :E, 2)"
   ]
  },
  {
   "cell_type": "code",
   "execution_count": null,
   "id": "c31e7754-5cce-4072-ac41-b6c5c8a1a12d",
   "metadata": {},
   "outputs": [],
   "source": [
    "h = @acset Gr begin\n",
    "    V = 3\n",
    "    E = 2\n",
    "    src = [1,2]\n",
    "    tgt = [2,3]\n",
    "end"
   ]
  },
  {
   "cell_type": "code",
   "execution_count": null,
   "id": "dec23849-1281-4939-bba2-a2e3b548a46b",
   "metadata": {},
   "outputs": [],
   "source": [
    "g = @acset Gr begin\n",
    "    V = 2\n",
    "    E = 1\n",
    "    src = [1]\n",
    "    tgt = [2]\n",
    "end"
   ]
  },
  {
   "cell_type": "code",
   "execution_count": 9,
   "id": "78ff83fb-7852-4f1e-976a-b37076952fd8",
   "metadata": {},
   "outputs": [
    {
     "data": {
      "text/plain": [
       "0"
      ]
     },
     "execution_count": 9,
     "metadata": {},
     "output_type": "execute_result"
    }
   ],
   "source": [
    "add_part!(g, :V)"
   ]
  },
  {
   "cell_type": "code",
   "execution_count": 10,
   "id": "f59b1ab2-4267-4312-b702-26cc14f3cedd",
   "metadata": {},
   "outputs": [
    {
     "data": {
      "text/plain": [
       "Dict{Symbol, AbstractSet{Int64}} with 2 entries:\n",
       "  :V => Set([0])\n",
       "  :E => Set{Int64}()"
      ]
     },
     "execution_count": 10,
     "metadata": {},
     "output_type": "execute_result"
    }
   ],
   "source": [
    "g.parts"
   ]
  },
  {
   "cell_type": "code",
   "execution_count": 11,
   "id": "8bcb32ec-03df-4af5-b379-7ece75170223",
   "metadata": {},
   "outputs": [
    {
     "data": {
      "text/plain": [
       "1"
      ]
     },
     "execution_count": 11,
     "metadata": {},
     "output_type": "execute_result"
    }
   ],
   "source": [
    "add_part!(g, :V)"
   ]
  },
  {
   "cell_type": "code",
   "execution_count": 12,
   "id": "8d0fa1c7-5768-4748-9991-65869dc8c6be",
   "metadata": {},
   "outputs": [
    {
     "data": {
      "text/plain": [
       "2"
      ]
     },
     "execution_count": 12,
     "metadata": {},
     "output_type": "execute_result"
    }
   ],
   "source": [
    "add_part!(g, :E)"
   ]
  },
  {
   "cell_type": "code",
   "execution_count": 13,
   "id": "512ddb57-c7bc-4044-b9fd-fb03e6909f03",
   "metadata": {},
   "outputs": [
    {
     "data": {
      "text/plain": [
       "Dict{Symbol, AbstractSet{Int64}} with 2 entries:\n",
       "  :V => Set([0, 1])\n",
       "  :E => Set([2])"
      ]
     },
     "execution_count": 13,
     "metadata": {},
     "output_type": "execute_result"
    }
   ],
   "source": [
    "g.parts"
   ]
  },
  {
   "cell_type": "code",
   "execution_count": 14,
   "id": "6ff72ea7-ff2f-42ba-b5bc-210fbcca309a",
   "metadata": {},
   "outputs": [
    {
     "data": {
      "text/plain": [
       "set_subpart! (generic function with 1 method)"
      ]
     },
     "execution_count": 14,
     "metadata": {},
     "output_type": "execute_result"
    }
   ],
   "source": [
    "function set_subpart!(acs::ACSet, i::Int, f::Symbol, j::Int)\n",
    "    @assert f ∈ acs.schema.edges\n",
    "    dom = acs.schema.src[f]\n",
    "    codom = acs.schema.tgt[f]\n",
    "    @assert i ∈ acs.parts[dom]\n",
    "    @assert j ∈ acs.parts[codom]\n",
    "    acs.subparts[f][i] = j\n",
    "end"
   ]
  },
  {
   "cell_type": "code",
   "execution_count": 15,
   "id": "86b62b7e-e317-4d33-b804-35d25d91975f",
   "metadata": {},
   "outputs": [
    {
     "data": {
      "text/plain": [
       "0"
      ]
     },
     "execution_count": 15,
     "metadata": {},
     "output_type": "execute_result"
    }
   ],
   "source": [
    "set_subpart!(g, 2, :src, 0)"
   ]
  },
  {
   "cell_type": "code",
   "execution_count": 16,
   "id": "c0c72c18-0603-4f69-9b02-710257618f7c",
   "metadata": {},
   "outputs": [
    {
     "data": {
      "text/plain": [
       "1"
      ]
     },
     "execution_count": 16,
     "metadata": {},
     "output_type": "execute_result"
    }
   ],
   "source": [
    "set_subpart!(g, 2, :tgt, 1)"
   ]
  },
  {
   "cell_type": "code",
   "execution_count": 17,
   "id": "e53df162-c2b8-4d3e-ac38-ab24960dc9c2",
   "metadata": {},
   "outputs": [
    {
     "data": {
      "text/plain": [
       "Dict{Symbol, Dict{Int64, Int64}} with 2 entries:\n",
       "  :src => Dict(2=>0)\n",
       "  :tgt => Dict(2=>1)"
      ]
     },
     "execution_count": 17,
     "metadata": {},
     "output_type": "execute_result"
    }
   ],
   "source": [
    "g.subparts"
   ]
  },
  {
   "cell_type": "code",
   "execution_count": null,
   "id": "7a7801df-9377-4fb2-9c1f-9673a077373b",
   "metadata": {},
   "outputs": [],
   "source": []
  }
 ],
 "metadata": {
  "kernelspec": {
   "display_name": "Julia 1.8.3",
   "language": "julia",
   "name": "julia-1.8"
  },
  "language_info": {
   "file_extension": ".jl",
   "mimetype": "application/julia",
   "name": "julia",
   "version": "1.8.3"
  }
 },
 "nbformat": 4,
 "nbformat_minor": 5
}
